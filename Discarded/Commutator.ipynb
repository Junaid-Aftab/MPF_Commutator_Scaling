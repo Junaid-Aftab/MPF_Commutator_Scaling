{
 "cells": [
  {
   "cell_type": "code",
   "execution_count": 1,
   "id": "d8d72ad5-6e57-4ae2-ab70-187b353e991a",
   "metadata": {},
   "outputs": [],
   "source": [
    "import numpy as np\n",
    "from scipy.linalg import toeplitz\n",
    "import sys\n",
    "import matplotlib.pyplot as plt\n",
    "import random\n",
    "import csv\n",
    "import pandas as pd\n",
    "from IPython.display import display, Math"
   ]
  },
  {
   "cell_type": "code",
   "execution_count": 41,
   "id": "4881745b-ad41-4282-9fca-6e2687e444f5",
   "metadata": {},
   "outputs": [],
   "source": [
    "def print_matrix(array):\n",
    "    matrix = ''\n",
    "    for row in array:\n",
    "        try:\n",
    "            for number in row:\n",
    "                matrix += f'{number}&'\n",
    "        except TypeError:\n",
    "            matrix += f'{row}&'\n",
    "        matrix = matrix[:-1] + r'\\\\'\n",
    "    display(Math(r'\\begin{bmatrix}'+matrix+r'\\end{bmatrix}'))      \n",
    "\n",
    "\n",
    "# 01010101 - becomes  ABABABAB - calculated as .....[B,[A,B]], nested from right to left\n",
    "def generate_binary_string(a, b):\n",
    "    if b > a or b < 0:\n",
    "        raise ValueError(\"Number of 1's (b) must be between 0 and the length (a)\")\n",
    "    \n",
    "    # Create a list with b ones and (a - b) zeros\n",
    "    bits = ['1'] * b + ['0'] * (a - b)\n",
    "    \n",
    "    # Shuffle the list to randomize the order\n",
    "    random.shuffle(bits)\n",
    "    \n",
    "    # Join the list into a string\n",
    "    return ''.join(bits)\n",
    "\n",
    "def generate_circulant_matrix(n):\n",
    "    \"\"\"Generate an n x n circulant matrix for Laplace discretization.\"\"\"\n",
    "    first_col = np.concatenate(([2, -1], np.zeros(n - 3), [-1]))\n",
    "    first_row = np.roll(first_col[::-1], 1)  # Reverse and rotate right\n",
    "    return toeplitz(first_col, first_row)\n",
    "\n",
    "def laplace(n):\n",
    "    \"\"\"Generate the Laplace matrix scaled by n^2.\"\"\"\n",
    "    return n**2 * generate_circulant_matrix(n)\n",
    "\n",
    "def smooth_potential(n):\n",
    "    x = np.linspace(0, 1-1/n, n)\n",
    "    v = np.sin(2*np.pi * x)  # or x**2\n",
    "    return np.diag(v)\n",
    "\n",
    "def commutator(X, Y):\n",
    "    return X @ Y - Y @ X\n",
    "\n",
    "def nested_commutator(binary_string, A, B):\n",
    "    ops = [A if char == '0' else B for char in binary_string]\n",
    "    result = ops[-1]\n",
    "    for i in reversed(ops[:-1]):\n",
    "        result = commutator(i, result)\n",
    "    return result"
   ]
  },
  {
   "cell_type": "code",
   "execution_count": 80,
   "id": "7c5c414e-1442-4874-b99a-08bd36aab48c",
   "metadata": {},
   "outputs": [
    {
     "name": "stdout",
     "output_type": "stream",
     "text": [
      "110\n"
     ]
    },
    {
     "data": {
      "text/plain": [
       "np.float64(1.0122129917296627)"
      ]
     },
     "execution_count": 80,
     "metadata": {},
     "output_type": "execute_result"
    }
   ],
   "source": [
    "bit_len = 3\n",
    "num_ones = 2\n",
    "n=10\n",
    "\n",
    "binary_str = generate_binary_string(bit_len, num_ones)\n",
    "print(binary_str)\n",
    "\n",
    "A = smooth_potential(n)\n",
    "B = laplace(n)\n",
    "\n",
    "comm = nested_commutator(binary_str, A, B)\n",
    "np.linalg.norm(comm,2) / n**num_ones\n",
    "#print_matrix(comm)"
   ]
  },
  {
   "cell_type": "code",
   "execution_count": null,
   "id": "842f29e0-ac1e-4c47-8522-2c87085c499e",
   "metadata": {},
   "outputs": [],
   "source": []
  }
 ],
 "metadata": {
  "kernelspec": {
   "display_name": "Python 3 (ipykernel)",
   "language": "python",
   "name": "python3"
  },
  "language_info": {
   "codemirror_mode": {
    "name": "ipython",
    "version": 3
   },
   "file_extension": ".py",
   "mimetype": "text/x-python",
   "name": "python",
   "nbconvert_exporter": "python",
   "pygments_lexer": "ipython3",
   "version": "3.13.0"
  }
 },
 "nbformat": 4,
 "nbformat_minor": 5
}
