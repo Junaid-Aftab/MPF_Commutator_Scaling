{
 "cells": [
  {
   "cell_type": "code",
   "execution_count": 1,
   "id": "7025852b-5c53-4843-a880-3ac5401e717e",
   "metadata": {},
   "outputs": [],
   "source": [
    "def explore_scaling_relationships(min_n, max_n, m, max_bit_length):\n",
    "\n",
    "    n_vals = list(range(min_n, max_n + 1))\n",
    "    results = []\n",
    "\n",
    "    #print(f\"\\n Starting bit_length {bit_len}\")\n",
    "    for bit_len in range(3, max_bit_length + 1):  \n",
    "        for num_ones in range(1, bit_len + 1):\n",
    "            binary_str = generate_binary_string(bit_len, num_ones)\n",
    "            commutator_norms = []\n",
    "\n",
    "            for n in n_vals:\n",
    "                A = laplace(n)\n",
    "                B = potential(n, m)\n",
    "                comm = nested_commutator(binary_str, A, B)\n",
    "                commutator_norms.append(np.linalg.norm(comm, 2))\n",
    "\n",
    "            threshold = 1e-14\n",
    "\n",
    "            # Step 2: Print norms to debug\n",
    "            print(f\"\\nBitstring: {binary_str} | Norms:\", [f\"{val:.2e}\" for val in commutator_norms])\n",
    "            \n",
    "            valid_data = [(n, norm) for n, norm in zip(n_vals, commutator_norms) if np.isfinite(norm) and norm > threshold]\n",
    "\n",
    "            \n",
    "            if len(valid_data) >= 2:\n",
    "                # Log-log regression: log(norm) = k * log(n) + log(C)\n",
    "                logs_n = np.log([v[0] for v in valid_data])\n",
    "                logs_comm = np.log([v[1] for v in valid_data])\n",
    "                k_fit, log_C = np.polyfit(logs_n, logs_comm, 1)\n",
    "                C_fit = np.exp(log_C)\n",
    "                zero_flag = False\n",
    "            else:\n",
    "                # Skip fit if too few valid points\n",
    "                k_fit = None\n",
    "                C_fit = None\n",
    "                zero_flag = True\n",
    "                print(f\" Skipping fit: only {len(valid_data)} valid norms > {threshold}\")\n",
    "\n",
    "            \n",
    "\n",
    "          \n",
    "            results.append({\n",
    "                \"bit_length\": bit_len,\n",
    "                \"num_ones\": num_ones,\n",
    "                \"expected_k\": num_ones,\n",
    "                \"fitted_k\": k_fit,\n",
    "                \"C\": C_fit,\n",
    "                \"binary_str\": binary_str,\n",
    "                \"zero_commutator\": zero_flag\n",
    "            })\n",
    "\n",
    "    df = pd.DataFrame(results)\n",
    "    display(df)\n",
    "\n",
    "    print(f\"\\n Total rows collected: {len(results)}\")\n",
    "    return df"
   ]
  },
  {
   "cell_type": "code",
   "execution_count": null,
   "id": "11d4abe7-af4f-4713-9bb5-3cced9112600",
   "metadata": {},
   "outputs": [],
   "source": [
    "df = explore_scaling_relationships(\n",
    "    min_n=4,\n",
    "    max_n=200,\n",
    "    m=100,\n",
    "    max_bit_length=10\n",
    ")"
   ]
  }
 ],
 "metadata": {
  "kernelspec": {
   "display_name": "Python 3 (ipykernel)",
   "language": "python",
   "name": "python3"
  },
  "language_info": {
   "codemirror_mode": {
    "name": "ipython",
    "version": 3
   },
   "file_extension": ".py",
   "mimetype": "text/x-python",
   "name": "python",
   "nbconvert_exporter": "python",
   "pygments_lexer": "ipython3",
   "version": "3.13.0"
  }
 },
 "nbformat": 4,
 "nbformat_minor": 5
}
